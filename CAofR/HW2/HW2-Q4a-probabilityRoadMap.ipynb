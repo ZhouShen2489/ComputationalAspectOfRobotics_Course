{
 "cells": [
  {
   "cell_type": "code",
   "execution_count": 1,
   "id": "bb353185",
   "metadata": {},
   "outputs": [],
   "source": [
    "import collections\n",
    "import numpy as np\n",
    "import math\n",
    "import matplotlib.pyplot as plt"
   ]
  },
  {
   "cell_type": "code",
   "execution_count": 44,
   "id": "34edbfda",
   "metadata": {},
   "outputs": [],
   "source": [
    "#Construct a Node type with x, y as attributes\n",
    "Node = collections.namedtuple('Node',['x','y'])\n",
    "class Nodes2d:\n",
    "    points = [(60,120),(150,90),(270,300),(300,240)]\n",
    "    x = [60,150,270,300]\n",
    "    y = [120,90,300,240]\n",
    "    def __init__(self):\n",
    "        self._nodes = [Node(x,y) for x,y in self.points]\n",
    "        print(self._nodes)\n",
    "    def __len__(self):\n",
    "        return len(self._nodes)\n",
    "    def __getitem__(self, position):\n",
    "        return self._nodes[position]"
   ]
  },
  {
   "cell_type": "code",
   "execution_count": 45,
   "id": "3875d36d",
   "metadata": {},
   "outputs": [
    {
     "name": "stdout",
     "output_type": "stream",
     "text": [
      "[Node(x=60, y=120), Node(x=150, y=90), Node(x=270, y=300), Node(x=300, y=240)]\n"
     ]
    }
   ],
   "source": [
    "nodes = Nodes2d()"
   ]
  },
  {
   "cell_type": "code",
   "execution_count": 67,
   "id": "c7adf265",
   "metadata": {
    "scrolled": true
   },
   "outputs": [],
   "source": [
    "#Since C-space is not continuous, we use the equation in HW2 to calculate the distance\n",
    "def crossDistance(node1, node2):\n",
    "    dis = min(abs(node1[0]-node2[0]), 360-abs(node1[0]-node2[0]))\\\n",
    "    + min(abs(node1[1]-node2[1]), 360-abs(node1[1]-node2[1]))\n",
    "    print(f\"The cross distance between {node1} and {node2} is: {dis}\")\n",
    "    return 0"
   ]
  },
  {
   "cell_type": "code",
   "execution_count": 68,
   "id": "e57e5278",
   "metadata": {},
   "outputs": [],
   "source": [
    "#Assume we ignore the C-space, the distance between each node\n",
    "def distance(node1,node2):\n",
    "    dis = abs(node1[0]-node2[0]) + abs(node1[1]-node2[1])\n",
    "    print(f\"The distance between {node1} and {node2} is: {dis}\")\n",
    "    return 0"
   ]
  },
  {
   "cell_type": "code",
   "execution_count": 70,
   "id": "1ebc5665",
   "metadata": {},
   "outputs": [
    {
     "name": "stdout",
     "output_type": "stream",
     "text": [
      "The cross distance between Node(x=60, y=120) and Node(x=150, y=90) is: 120\n",
      "The distance between Node(x=60, y=120) and Node(x=150, y=90) is: 120\n",
      "The cross distance between Node(x=60, y=120) and Node(x=270, y=300) is: 330\n",
      "The distance between Node(x=60, y=120) and Node(x=270, y=300) is: 390\n",
      "The cross distance between Node(x=60, y=120) and Node(x=300, y=240) is: 240\n",
      "The distance between Node(x=60, y=120) and Node(x=300, y=240) is: 360\n",
      "The cross distance between Node(x=150, y=90) and Node(x=270, y=300) is: 270\n",
      "The distance between Node(x=150, y=90) and Node(x=270, y=300) is: 330\n",
      "The cross distance between Node(x=150, y=90) and Node(x=300, y=240) is: 300\n",
      "The distance between Node(x=150, y=90) and Node(x=300, y=240) is: 300\n",
      "The cross distance between Node(x=270, y=300) and Node(x=300, y=240) is: 90\n",
      "The distance between Node(x=270, y=300) and Node(x=300, y=240) is: 90\n"
     ]
    }
   ],
   "source": [
    "#Compute crossDistance and distance to see if the path goes out of the boundary of C-space\n",
    "for i in range(len(nodes)-1):\n",
    "    for j in range(i+1, len(nodes)):\n",
    "        crossDistance(nodes[i], nodes[j])\n",
    "        distance(nodes[i], nodes[j])"
   ]
  },
  {
   "cell_type": "code",
   "execution_count": 71,
   "id": "ecb56e75",
   "metadata": {},
   "outputs": [
    {
     "data": {
      "text/plain": [
       "(0.0, 360.0)"
      ]
     },
     "execution_count": 71,
     "metadata": {},
     "output_type": "execute_result"
    },
    {
     "data": {
      "image/png": "[encoded data removed]",
      "text/plain": [
       "<Figure size 432x288 with 1 Axes>"
      ]
     },
     "metadata": {
      "needs_background": "light"
     },
     "output_type": "display_data"
    }
   ],
   "source": [
    "#Draw the nodes\n",
    "workspace_params = [(0, 0), (360, 360)]\n",
    "plt.plot(nodes.x, nodes.y,'.')\n",
    "plt.xlim(workspace_params[0][0], workspace_params[1][0])\n",
    "plt.ylim(workspace_params[0][1], workspace_params[1][1])"
   ]
  }
 ],
 "metadata": {
  "kernelspec": {
   "display_name": "Python 3",
   "language": "python",
   "name": "python3"
  },
  "language_info": {
   "codemirror_mode": {
    "name": "ipython",
    "version": 3
   },
   "file_extension": ".py",
   "mimetype": "text/x-python",
   "name": "python",
   "nbconvert_exporter": "python",
   "pygments_lexer": "ipython3",
   "version": "3.8.8"
  }
 },
 "nbformat": 4,
 "nbformat_minor": 5
}
