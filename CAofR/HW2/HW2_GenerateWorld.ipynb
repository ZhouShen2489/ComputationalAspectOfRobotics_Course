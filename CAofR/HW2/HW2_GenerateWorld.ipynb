{
 "cells": [
  {
   "cell_type": "code",
   "execution_count": 1,
   "metadata": {
    "executionInfo": {
     "elapsed": 25,
     "status": "ok",
     "timestamp": 1632951055101,
     "user": {
      "displayName": "Tony Dear",
      "photoUrl": "https://lh3.googleusercontent.com/a/default-user=s64",
      "userId": "14085082303639115502"
     },
     "user_tz": 240
    },
    "id": "PAjf3rny76nY"
   },
   "outputs": [],
   "source": [
    "import numpy as np\n",
    "import matplotlib.pyplot as plt\n",
    "from matplotlib.patches import Patch\n",
    "\n",
    "# Visualization of brushfire grid, GVD, and paths\n",
    "def plot_GVD(grid, GVD=None, path=None):\n",
    "  fig, ax = plt.subplots()\n",
    "  GVD_grid = np.copy(grid)\n",
    "  if GVD:\n",
    "    GVD_x, GVD_y = zip(*GVD)\n",
    "    GVD_grid[GVD_x,GVD_y] = 20\n",
    "\n",
    "  img1 = ax.imshow(GVD_grid, cmap=\"RdBu\", alpha=0.6)\n",
    "  obstacles = GVD_grid.copy()\n",
    "  obstacles[obstacles < 0] = -2.0\n",
    "  masked_data = np.ma.masked_where(obstacles > 0, obstacles)\n",
    "  img2 = ax.imshow(masked_data, cmap=\"bwr\")\n",
    "  legend_elements = [Patch(facecolor='blue', label='Obstacle')]\n",
    "  if GVD: legend_elements.append(Patch(facecolor='#83b1d3', label='GVD'))\n",
    "\n",
    "  if path:\n",
    "    path_x, path_y = zip(*path)\n",
    "    GVD_grid[path_x,path_y] = 40.0\n",
    "    grid_path = GVD_grid.copy()\n",
    "    grid_path = np.ma.masked_where(grid_path != 40.0, grid_path)\n",
    "    img3 = ax.imshow(grid_path, cmap=\"cool_r\", interpolation=\"nearest\") \n",
    "    legend_elements.append(Patch(facecolor='#e741f6', label='path'))\n",
    "\n",
    "  ax.legend(handles=legend_elements)\n",
    "  plt.show()"
   ]
  },
  {
   "cell_type": "code",
   "execution_count": 2,
   "metadata": {
    "executionInfo": {
     "elapsed": 163,
     "status": "ok",
     "timestamp": 1632951070240,
     "user": {
      "displayName": "Tony Dear",
      "photoUrl": "https://lh3.googleusercontent.com/a/default-user=s64",
      "userId": "14085082303639115502"
     },
     "user_tz": 240
    },
    "id": "Qb6_V097xvPA"
   },
   "outputs": [],
   "source": [
    "# Generation of example environments\n",
    "# Feel free to generate more using these as baseline\n",
    "\n",
    "def generate_world_1(width=100, height=100):  \n",
    "  x_list = np.linspace(0, width-1, width)\n",
    "  y_list = np.linspace(0, height-1, height)  \n",
    "\n",
    "  grid_world = np.zeros((width, height))\n",
    "  grid_world = create_rectangle_obstacle(grid_world, 30, 70, 40, 60, -1)\n",
    "\n",
    "  return grid_world, x_list, y_list\n",
    "\n",
    "\n",
    "def generate_world_2(width=100, height=100):    \n",
    "  x_list = np.linspace(0, width-1, width)\n",
    "  y_list = np.linspace(0, height-1, height)\n",
    "  \n",
    "  grid_world = np.zeros((width, height))  \n",
    "  grid_world = create_rectangle_obstacle(grid_world, 20, 40, 45, 85, -1)\n",
    "  \n",
    "  # triangle obstacle\n",
    "  for x in range(60, 91):\n",
    "    for y in range(20, 91-x+21):\n",
    "      grid_world[int(x), int(y)] = -2\n",
    "\n",
    "  return grid_world, x_list, y_list\n",
    "\n",
    "\n",
    "def generate_world_3(width=100, height=100):   \n",
    "  x_list = np.linspace(0, width-1, width)\n",
    "  y_list = np.linspace(0, height-1, height)\n",
    "  \n",
    "  grid_world = np.zeros((width, height))\n",
    "  grid_world = create_rectangle_obstacle(grid_world, 15, 45, 20, 50, -1)\n",
    "  grid_world = create_circle_obstacle(grid_world, 75.0, 30.0, 12, -2)\n",
    "  grid_world = create_circle_obstacle(grid_world, 50.0, 75.0, 16, -3)\n",
    "  \n",
    "  return grid_world, x_list, y_list\n",
    "\n",
    "\n",
    "def generate_world_4(width=100, height=100):   \n",
    "  x_list = np.linspace(0, width-1, width)\n",
    "  y_list = np.linspace(0, height-1, height)\n",
    "  grid_world = np.zeros((width, height))\n",
    "\n",
    "  # triangle obstacle\n",
    "  for x in range(50, 81):\n",
    "    for y in range(20, 21+x-50):\n",
    "      grid_world[int(x), int(y)] = -1\n",
    "\n",
    "  grid_world = create_rectangle_obstacle(grid_world, 30, 60, 55, 85, -2)\n",
    "  grid_world = create_circle_obstacle(grid_world, 25.0, 30.0, 12, -3)\n",
    "  \n",
    "  return grid_world, x_list, y_list\n",
    "\n",
    "\n",
    "def create_circle_obstacle(grid_world, center_x, center_y, radius, obst_id):\n",
    "  c_x, c_y, r_2 = center_x, center_y, radius\n",
    "  for x in range(grid_world.shape[0]):\n",
    "    for y in range(grid_world.shape[1]):\n",
    "      if np.sqrt((x - c_x)**2 + (y - c_y)**2) < r_2:\n",
    "        grid_world[int(x), int(y)] = obst_id\n",
    "  return grid_world\n",
    "\n",
    "\n",
    "def create_rectangle_obstacle(grid_world, lower_x, upper_x, lower_y, upper_y, obst_id):\n",
    "  grid_world[lower_x: upper_x, lower_y: upper_y] = obst_id\n",
    "  return grid_world"
   ]
  },
  {
   "cell_type": "code",
   "execution_count": 3,
   "metadata": {
    "executionInfo": {
     "elapsed": 2790,
     "status": "ok",
     "timestamp": 1632951077010,
     "user": {
      "displayName": "Tony Dear",
      "photoUrl": "https://lh3.googleusercontent.com/a/default-user=s64",
      "userId": "14085082303639115502"
     },
     "user_tz": 240
    },
    "id": "JLo3eOf_U8H2"
   },
   "outputs": [],
   "source": [
    "z_1, _, _ = generate_world_1()\n",
    "z_2, _, _ = generate_world_2()\n",
    "z_3, _, _ = generate_world_3()\n",
    "z_4, _, _ = generate_world_4()"
   ]
  },
  {
   "cell_type": "code",
   "execution_count": 4,
   "metadata": {
    "executionInfo": {
     "elapsed": 3777,
     "status": "ok",
     "timestamp": 1632951093237,
     "user": {
      "displayName": "Tony Dear",
      "photoUrl": "https://lh3.googleusercontent.com/a/default-user=s64",
      "userId": "14085082303639115502"
     },
     "user_tz": 240
    },
    "id": "_aJSnijiJH7c"
   },
   "outputs": [],
   "source": [
    "# Utility functions: You may use or modify any of these\n",
    "\n",
    "# Return valid neighbors on the grid of cell [i,j]\n",
    "def neighbors(grid, i, j):\n",
    "  n = []\n",
    "\n",
    "  if i-1 >= 0:\n",
    "    n.append((i-1,j))\n",
    "    if j-1 >= 0: n.append((i-1,j-1))\n",
    "    if j+1 < grid.shape[1]: n.append((i-1,j+1))\n",
    "  if i+1 < grid.shape[0]: \n",
    "    n.append((i+1,j))\n",
    "    if j-1 >= 0: n.append((i+1,j-1))\n",
    "    if j+1 < grid.shape[1]: n.append((i+1,j+1))\n",
    "  if j-1 >= 0: n.append((i,j-1))\n",
    "  if j+1 < grid.shape[1]: n.append((i,j+1))\n",
    "\n",
    "  return n\n",
    "\n",
    "\n",
    "# Shortest path from any cell in env to a cell in GVD via gradient ascent\n",
    "def path_to_GVD(grid, GVD, cell):\n",
    "  path = [cell]\n",
    "  while path[-1] not in GVD:\n",
    "    next = path[-1]\n",
    "    for n in neighbors(grid, path[-1][0], path[-1][1]):\n",
    "      if grid[n[0], n[1]] > grid[next[0], next[1]]:\n",
    "        next = n\n",
    "    path.append(next)\n",
    "  return path\n",
    "\n",
    "\n",
    "# Shortest path between two points on GVD\n",
    "def GVD_path(grid, GVD, A, B):\n",
    "  GVD = set(GVD)\n",
    "  closed = set([])\n",
    "  open = [A]\n",
    "  pointers = {}\n",
    "\n",
    "  while len(open) > 0:\n",
    "    cell = open.pop(0)\n",
    "    new_neighbors = GVD.intersection(set(neighbors(grid, cell[0], cell[1]))) - closed\n",
    "\n",
    "    if B in new_neighbors:\n",
    "      pointers[B] = cell\n",
    "      path = [B]\n",
    "      while path[-1] != A:\n",
    "        next = pointers[path[-1]]\n",
    "        path.append(next)\n",
    "      return list(reversed(path))\n",
    "\n",
    "    open += list(new_neighbors)\n",
    "    closed.update(new_neighbors)\n",
    "    pointers.update(dict.fromkeys(list(new_neighbors), cell))\n",
    "\n",
    "  return None"
   ]
  },
  {
   "cell_type": "code",
   "execution_count": null,
   "metadata": {},
   "outputs": [],
   "source": []
  },
  {
   "cell_type": "code",
   "execution_count": null,
   "metadata": {},
   "outputs": [],
   "source": []
  }
 ],
 "metadata": {
  "colab": {
   "collapsed_sections": [],
   "name": "hw2_script.ipynb",
   "provenance": []
  },
  "kernelspec": {
   "display_name": "Python 3",
   "language": "python",
   "name": "python3"
  },
  "language_info": {
   "codemirror_mode": {
    "name": "ipython",
    "version": 3
   },
   "file_extension": ".py",
   "mimetype": "text/x-python",
   "name": "python",
   "nbconvert_exporter": "python",
   "pygments_lexer": "ipython3",
   "version": "3.8.8"
  }
 },
 "nbformat": 4,
 "nbformat_minor": 1
}
