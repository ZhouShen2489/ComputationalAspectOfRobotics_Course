{
 "cells": [
  {
   "cell_type": "code",
   "execution_count": 1,
   "metadata": {},
   "outputs": [],
   "source": [
    "import numpy as np\n",
    "import matplotlib\n",
    "import matplotlib.pyplot as plt\n",
    "from matplotlib.patches import Polygon\n",
    "import math\n",
    "\n",
    "from matplotlib import path\n",
    "import collections"
   ]
  },
  {
   "cell_type": "code",
   "execution_count": 2,
   "metadata": {},
   "outputs": [],
   "source": [
    "class robot:\n",
    "    def __init__(self, start, d, theta):\n",
    "        self.x = start[0];\n",
    "        self.y = start[1];\n",
    "        self.deltD = d;\n",
    "        self.deltadegree = theta;\n",
    "        self.curtheta = 0;\n",
    "        self.direction = 1\n",
    "        \n",
    "    def Attempmove(self):\n",
    "        newx = self.x + self.deltD * math.cos( np.radians(self.curtheta) )\n",
    "        newy = self.y + self.deltD * math.sin(  np.radians(self.curtheta) )\n",
    "        \n",
    "        return newx, newy\n",
    "        \n",
    "    def move(self):\n",
    "        self.x += self.deltD * math.cos( np.radians(self.curtheta) )\n",
    "        self.y += self.deltD * math.sin(  np.radians(self.curtheta) )\n",
    "    \n",
    "    def rotate(self, cw = 1):\n",
    "        self.direction *= cw\n",
    "        if self.direction == 1:\n",
    "            self.curtheta += self.deltadegree\n",
    "        else:\n",
    "            self.curtheta -= self.deltadegree\n",
    "        self.curtheta = (self.curtheta + 360) % 360\n",
    "        "
   ]
  },
  {
   "cell_type": "code",
   "execution_count": 3,
   "metadata": {},
   "outputs": [],
   "source": [
    "class Bug2:\n",
    "    def __init__(self, d, theta, start, end, obstacles):\n",
    "        self.start = start\n",
    "        self.end = end\n",
    "        self.obstacles = obstacles\n",
    "        self.path = [start]\n",
    "        self.goalDir =  0\n",
    "        self.poly = path.Path(obstacles)\n",
    "        \n",
    "    def getOrientation(self, start, end):\n",
    "        a = ( end[1] - start[1] ) /  ( end[0] - start[0] ) \n",
    "        b = end[1] - a * end[0];\n",
    "        return [a, b]\n",
    "    \n",
    "    def getintersection(self, directionList):\n",
    "        \n",
    "        intersection = []\n",
    "        for param, limit1, limit2 in directionList:\n",
    "            x = (- self.goalDir[1] + param[1]) / (self.goalDir[0] - param[0])\n",
    "            y = self.goalDir[0] * x + self.goalDir[1]\n",
    "            if min(limit1[0], limit2[0]) <= x <= max(limit1[0], limit2[0]) and min(limit1[1], limit2[1]) <= y <= max(limit1[1], limit2[1]):\n",
    "                intersection.append([x, y])\n",
    "                \n",
    "        for i in range(len(directionList)):\n",
    "            if i == 0:\n",
    "                continue;\n",
    "            prev = [ directionList[i-1][2][0] - directionList[i-1][1][0], directionList[i-1][2][1] - directionList[i-1][1][1]]\n",
    "            cur = [ directionList[i][2][0] - directionList[i][1][0], directionList[i][2][1] - directionList[i][1][1]]\n",
    "            \n",
    "            x1, y1, x2, y2 = prev[0], prev[1], cur[0], cur[1]\n",
    "            crossProduct = x1 * y2 - x2 * y1;\n",
    "            if crossProduct < 0:\n",
    "                intersection.append(directionList[i][1])\n",
    "            \n",
    "        intersection.sort()\n",
    "        return intersection\n",
    "    \n",
    "    def checkCollision(self, point):\n",
    "\n",
    "        return self.poly.contains_points( [point], radius = 0.01)[0]\n",
    "    \n",
    "    def getdistance(self, point, robot):\n",
    "        return math.sqrt( pow(robot.x - point[0], 2) + pow(robot.y - point[1], 2))\n",
    "    \n",
    "    def solve(self, Robot):\n",
    "        \n",
    "        directionList = []\n",
    "        self.goalDir = self.getOrientation(self.start, self.end)\n",
    "        Robot.curtheta = math.degrees( math.atan( (self.end[1] - self.start[1]) / (self.end[0] - self.start[0]) ) )\n",
    "        reset = math.degrees( math.atan( (self.end[1] - self.start[1]) / (self.end[0] - self.start[0]) ) )\n",
    "        for i in range(1, len(self.obstacles)):\n",
    "            directionList.append( [self.getOrientation(self.obstacles[i-1] , self.obstacles[i]) , self.obstacles[i-1], self.obstacles[i]])\n",
    "        \n",
    "        \n",
    "        intersection = self.getintersection(directionList)\n",
    "        intersection.append(self.end)\n",
    "        q = collections.deque(intersection)\n",
    "        while(len(q)):\n",
    "            tx, ty = q.popleft()\n",
    "            \n",
    "            if(tx == self.end[0] and ty == self.end[1] and self.getdistance([tx, ty], Robot) <= 0.05): #need change\n",
    "                self.path.append(end)\n",
    "                break\n",
    "            \n",
    "            reset = math.degrees( math.atan( ( ty - Robot.y ) / (tx - Robot.x) ) )\n",
    "            while self.getdistance([tx, ty], Robot) > 0.1:\n",
    "                nx, ny = Robot.Attempmove()\n",
    "                if not self.checkCollision([nx, ny]):\n",
    "                    Robot.move()\n",
    "                    self.path.append([Robot.x, Robot.y])\n",
    "                    Robot.curtheta = math.degrees( math.atan( ( ty - Robot.y ) / (tx - Robot.x) ) )\n",
    "                else:\n",
    "                    Robot.rotate()\n",
    "               \n",
    "        return\n",
    "                \n",
    "                \n",
    "            "
   ]
  },
  {
   "cell_type": "code",
   "execution_count": 4,
   "metadata": {},
   "outputs": [],
   "source": [
    "def plot(start, end, obstacles, bug=None):\n",
    "    pts = np.array(obstacles)\n",
    "    p = Polygon(pts, closed=False)\n",
    "    ax = plt.gca()\n",
    "    ax.add_patch(p)\n",
    "    ax.set_xlim(-2,6)\n",
    "    ax.set_ylim(-2,6)\n",
    "    x = start[0]\n",
    "    y = start[1]\n",
    "    plt.scatter(x, y, c='coral', s = 50)\n",
    "    X = end[0]\n",
    "    Y = end[1]\n",
    "    plt.scatter(X, Y, c='lightblue', s = 50)\n",
    "    \n",
    "    if bug != None:\n",
    "        for i in range(len(bug.path)):\n",
    "               plt.scatter(bug.path[i][0], bug.path[i][1], c='orange', s = 5)\n",
    "\n",
    "    plt.show()"
   ]
  },
  {
   "cell_type": "code",
   "execution_count": 5,
   "metadata": {},
   "outputs": [],
   "source": [
    "start = [0,0]\n",
    "obstacles = [[1,0],[3,1],[1.6,2.5],[1.4,4],[1,0]]\n",
    "end = [3,2]\n",
    "d = 0.03\n",
    "theta = 10"
   ]
  },
  {
   "cell_type": "code",
   "execution_count": 6,
   "metadata": {},
   "outputs": [
    {
     "data": {
      "image/png": "[encoded data removed]",
      "text/plain": [
       "<Figure size 432x288 with 1 Axes>"
      ]
     },
     "metadata": {
      "needs_background": "light"
     },
     "output_type": "display_data"
    }
   ],
   "source": [
    "plot(start, end, obstacles)"
   ]
  },
  {
   "cell_type": "code",
   "execution_count": 7,
   "metadata": {},
   "outputs": [],
   "source": [
    "Robot = robot(start, d, theta)"
   ]
  },
  {
   "cell_type": "code",
   "execution_count": 8,
   "metadata": {},
   "outputs": [],
   "source": [
    "bug = Bug2(d, theta, start, end, obstacles)"
   ]
  },
  {
   "cell_type": "code",
   "execution_count": 9,
   "metadata": {},
   "outputs": [],
   "source": [
    "bug.solve(Robot)"
   ]
  },
  {
   "cell_type": "code",
   "execution_count": 10,
   "metadata": {
    "scrolled": true
   },
   "outputs": [
    {
     "data": {
      "image/png": "[encoded data removed]",
      "text/plain": [
       "<Figure size 432x288 with 1 Axes>"
      ]
     },
     "metadata": {
      "needs_background": "light"
     },
     "output_type": "display_data"
    }
   ],
   "source": [
    "plot(start, end, obstacles, bug)"
   ]
  },
  {
   "cell_type": "code",
   "execution_count": 11,
   "metadata": {},
   "outputs": [],
   "source": [
    "start = [0,0]\n",
    "obstacles = [[1,0],[3,1],[2, 2],[1,0]]\n",
    "end = [3,2]\n",
    "d = 0.03\n",
    "theta = 10"
   ]
  },
  {
   "cell_type": "code",
   "execution_count": 12,
   "metadata": {},
   "outputs": [
    {
     "data": {
      "image/png": "[encoded data removed]",
      "text/plain": [
       "<Figure size 432x288 with 1 Axes>"
      ]
     },
     "metadata": {
      "needs_background": "light"
     },
     "output_type": "display_data"
    }
   ],
   "source": [
    "plot(start, end, obstacles)"
   ]
  },
  {
   "cell_type": "code",
   "execution_count": 13,
   "metadata": {},
   "outputs": [
    {
     "data": {
      "image/png": "[encoded data removed]",
      "text/plain": [
       "<Figure size 432x288 with 1 Axes>"
      ]
     },
     "metadata": {
      "needs_background": "light"
     },
     "output_type": "display_data"
    }
   ],
   "source": [
    "Robot = robot(start, d, theta)\n",
    "bug = Bug2(d, theta, start, end, obstacles)\n",
    "bug.solve(Robot)\n",
    "plot(start, end, obstacles, bug)"
   ]
  },
  {
   "cell_type": "code",
   "execution_count": 14,
   "metadata": {},
   "outputs": [
    {
     "data": {
      "image/png": "[encoded data removed]",
      "text/plain": [
       "<Figure size 432x288 with 1 Axes>"
      ]
     },
     "metadata": {
      "needs_background": "light"
     },
     "output_type": "display_data"
    }
   ],
   "source": [
    "start = [0,0]\n",
    "obstacles = [[1,0],[2.7,1],[2.3,3.5],[1.4,4],[1,0]]\n",
    "end = [3,2]\n",
    "d = 0.03\n",
    "theta = 10\n",
    "plot(start, end, obstacles)"
   ]
  },
  {
   "cell_type": "code",
   "execution_count": 15,
   "metadata": {},
   "outputs": [
    {
     "data": {
      "image/png": "[encoded data removed]",
      "text/plain": [
       "<Figure size 432x288 with 1 Axes>"
      ]
     },
     "metadata": {
      "needs_background": "light"
     },
     "output_type": "display_data"
    }
   ],
   "source": [
    "Robot = robot(start, d, theta)\n",
    "bug = Bug2(d, theta, start, end, obstacles)\n",
    "bug.solve(Robot)\n",
    "plot(start, end, obstacles, bug)"
   ]
  },
  {
   "cell_type": "code",
   "execution_count": 16,
   "metadata": {},
   "outputs": [
    {
     "data": {
      "image/png": "[encoded data removed]",
      "text/plain": [
       "<Figure size 432x288 with 1 Axes>"
      ]
     },
     "metadata": {
      "needs_background": "light"
     },
     "output_type": "display_data"
    }
   ],
   "source": [
    "start = [0,0]\n",
    "obstacles = [[1,2],[2.7,2],[2.3,3.5],[1.4,4],[1,2]]\n",
    "end = [3,2]\n",
    "d = 0.03\n",
    "theta = 10\n",
    "plot(start, end, obstacles)"
   ]
  },
  {
   "cell_type": "code",
   "execution_count": 17,
   "metadata": {},
   "outputs": [
    {
     "data": {
      "image/png": "[encoded data removed]",
      "text/plain": [
       "<Figure size 432x288 with 1 Axes>"
      ]
     },
     "metadata": {
      "needs_background": "light"
     },
     "output_type": "display_data"
    }
   ],
   "source": [
    "Robot = robot(start, d, theta)\n",
    "bug = Bug2(d, theta, start, end, obstacles)\n",
    "bug.solve(Robot)\n",
    "plot(start, end, obstacles, bug)"
   ]
  },
  {
   "cell_type": "code",
   "execution_count": null,
   "metadata": {},
   "outputs": [],
   "source": []
  }
 ],
 "metadata": {
  "interpreter": {
   "hash": "4eaf1be304415beee96765ae99c3f893cc8312c7f1196698e6029668e9aeb3e5"
  },
  "kernelspec": {
   "display_name": "Python 3",
   "language": "python",
   "name": "python3"
  },
  "language_info": {
   "codemirror_mode": {
    "name": "ipython",
    "version": 3
   },
   "file_extension": ".py",
   "mimetype": "text/x-python",
   "name": "python",
   "nbconvert_exporter": "python",
   "pygments_lexer": "ipython3",
   "version": "3.8.8"
  }
 },
 "nbformat": 4,
 "nbformat_minor": 2
}
